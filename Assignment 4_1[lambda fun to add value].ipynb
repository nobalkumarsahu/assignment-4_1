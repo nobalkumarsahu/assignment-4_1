{
 "cells": [
  {
   "cell_type": "code",
   "execution_count": null,
   "id": "21b4207e",
   "metadata": {},
   "outputs": [],
   "source": [
    "n = lambda x: x + 25\n",
    "print(n(10))"
   ]
  }
 ],
 "metadata": {
  "kernelspec": {
   "display_name": "Python 3 (ipykernel)",
   "language": "python",
   "name": "python3"
  },
  "language_info": {
   "codemirror_mode": {
    "name": "ipython",
    "version": 3
   },
   "file_extension": ".py",
   "mimetype": "text/x-python",
   "name": "python",
   "nbconvert_exporter": "python",
   "pygments_lexer": "ipython3",
   "version": "3.10.0"
  }
 },
 "nbformat": 4,
 "nbformat_minor": 5
}
